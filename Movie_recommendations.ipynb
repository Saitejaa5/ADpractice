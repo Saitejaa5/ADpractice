{
 "cells": [
  {
   "cell_type": "code",
   "execution_count": 1,
   "id": "a14beebf-ba09-4814-8a56-15ca18c4db93",
   "metadata": {},
   "outputs": [],
   "source": [
    "import numpy as np\n",
    "import pandas as pd\n"
   ]
  },
  {
   "cell_type": "code",
   "execution_count": 2,
   "id": "661a45a1-177f-4728-97f1-db3be6d51e9a",
   "metadata": {},
   "outputs": [
    {
     "data": {
      "text/html": [
       "<div>\n",
       "<style scoped>\n",
       "    .dataframe tbody tr th:only-of-type {\n",
       "        vertical-align: middle;\n",
       "    }\n",
       "\n",
       "    .dataframe tbody tr th {\n",
       "        vertical-align: top;\n",
       "    }\n",
       "\n",
       "    .dataframe thead th {\n",
       "        text-align: right;\n",
       "    }\n",
       "</style>\n",
       "<table border=\"1\" class=\"dataframe\">\n",
       "  <thead>\n",
       "    <tr style=\"text-align: right;\">\n",
       "      <th></th>\n",
       "      <th>userId</th>\n",
       "      <th>movie</th>\n",
       "      <th>rating</th>\n",
       "    </tr>\n",
       "  </thead>\n",
       "  <tbody>\n",
       "    <tr>\n",
       "      <th>0</th>\n",
       "      <td>3</td>\n",
       "      <td>Toy Story (1995)</td>\n",
       "      <td>4.0</td>\n",
       "    </tr>\n",
       "    <tr>\n",
       "      <th>1</th>\n",
       "      <td>6</td>\n",
       "      <td>Toy Story (1995)</td>\n",
       "      <td>5.0</td>\n",
       "    </tr>\n",
       "    <tr>\n",
       "      <th>2</th>\n",
       "      <td>8</td>\n",
       "      <td>Toy Story (1995)</td>\n",
       "      <td>4.0</td>\n",
       "    </tr>\n",
       "    <tr>\n",
       "      <th>3</th>\n",
       "      <td>10</td>\n",
       "      <td>Toy Story (1995)</td>\n",
       "      <td>4.0</td>\n",
       "    </tr>\n",
       "    <tr>\n",
       "      <th>4</th>\n",
       "      <td>11</td>\n",
       "      <td>Toy Story (1995)</td>\n",
       "      <td>4.5</td>\n",
       "    </tr>\n",
       "    <tr>\n",
       "      <th>...</th>\n",
       "      <td>...</td>\n",
       "      <td>...</td>\n",
       "      <td>...</td>\n",
       "    </tr>\n",
       "    <tr>\n",
       "      <th>8987</th>\n",
       "      <td>7087</td>\n",
       "      <td>GoldenEye (1995)</td>\n",
       "      <td>3.0</td>\n",
       "    </tr>\n",
       "    <tr>\n",
       "      <th>8988</th>\n",
       "      <td>7088</td>\n",
       "      <td>GoldenEye (1995)</td>\n",
       "      <td>1.0</td>\n",
       "    </tr>\n",
       "    <tr>\n",
       "      <th>8989</th>\n",
       "      <td>7105</td>\n",
       "      <td>GoldenEye (1995)</td>\n",
       "      <td>2.0</td>\n",
       "    </tr>\n",
       "    <tr>\n",
       "      <th>8990</th>\n",
       "      <td>7113</td>\n",
       "      <td>GoldenEye (1995)</td>\n",
       "      <td>3.0</td>\n",
       "    </tr>\n",
       "    <tr>\n",
       "      <th>8991</th>\n",
       "      <td>7117</td>\n",
       "      <td>GoldenEye (1995)</td>\n",
       "      <td>3.0</td>\n",
       "    </tr>\n",
       "  </tbody>\n",
       "</table>\n",
       "<p>8992 rows × 3 columns</p>\n",
       "</div>"
      ],
      "text/plain": [
       "      userId             movie  rating\n",
       "0          3  Toy Story (1995)     4.0\n",
       "1          6  Toy Story (1995)     5.0\n",
       "2          8  Toy Story (1995)     4.0\n",
       "3         10  Toy Story (1995)     4.0\n",
       "4         11  Toy Story (1995)     4.5\n",
       "...      ...               ...     ...\n",
       "8987    7087  GoldenEye (1995)     3.0\n",
       "8988    7088  GoldenEye (1995)     1.0\n",
       "8989    7105  GoldenEye (1995)     2.0\n",
       "8990    7113  GoldenEye (1995)     3.0\n",
       "8991    7117  GoldenEye (1995)     3.0\n",
       "\n",
       "[8992 rows x 3 columns]"
      ]
     },
     "execution_count": 2,
     "metadata": {},
     "output_type": "execute_result"
    }
   ],
   "source": [
    "df = pd.read_csv(r\"C:\\Users\\Gaurav\\Downloads\\Movie.csv\")\n",
    "df"
   ]
  },
  {
   "cell_type": "code",
   "execution_count": 4,
   "id": "92f903c5-0665-4235-bc29-4608573ecb08",
   "metadata": {},
   "outputs": [
    {
     "name": "stdout",
     "output_type": "stream",
     "text": [
      "   userId             movie  rating\n",
      "0       3  Toy Story (1995)     4.0\n",
      "1       6  Toy Story (1995)     5.0\n",
      "2       8  Toy Story (1995)     4.0\n",
      "3      10  Toy Story (1995)     4.0\n",
      "4      11  Toy Story (1995)     4.5\n",
      "<class 'pandas.core.frame.DataFrame'>\n",
      "RangeIndex: 8992 entries, 0 to 8991\n",
      "Data columns (total 3 columns):\n",
      " #   Column  Non-Null Count  Dtype  \n",
      "---  ------  --------------  -----  \n",
      " 0   userId  8992 non-null   int64  \n",
      " 1   movie   8992 non-null   object \n",
      " 2   rating  8992 non-null   float64\n",
      "dtypes: float64(1), int64(1), object(1)\n",
      "memory usage: 210.9+ KB\n",
      "None\n",
      "userId    0\n",
      "movie     0\n",
      "rating    0\n",
      "dtype: int64\n",
      "            userId       rating\n",
      "count  8992.000000  8992.000000\n",
      "mean   3521.880116     3.557162\n",
      "std    2012.497384     0.967071\n",
      "min       1.000000     0.500000\n",
      "25%    1779.000000     3.000000\n",
      "50%    3530.000000     3.500000\n",
      "75%    5213.250000     4.000000\n",
      "max    7120.000000     5.000000\n"
     ]
    }
   ],
   "source": [
    "\n",
    "print(df.head())\n",
    "# Get dataset info\n",
    "print(df.info())\n",
    "\n",
    "# Check for missing values\n",
    "print(df.isnull().sum())\n",
    "\n",
    "# Summary statistics\n",
    "print(df.describe())\n"
   ]
  },
  {
   "cell_type": "code",
   "execution_count": 7,
   "id": "fc7dc3b9-dd57-459c-bc15-aa7f1369e227",
   "metadata": {},
   "outputs": [
    {
     "name": "stdout",
     "output_type": "stream",
     "text": [
      "Unique Users: 4081\n",
      "Unique Movies: 10\n"
     ]
    }
   ],
   "source": [
    "# Number of unique users and movies\n",
    "print(\"Unique Users:\", df['userId'].nunique())\n",
    "print(\"Unique Movies:\", df['movie'].nunique())\n",
    "\n",
    "# Most watched movies\n",
    "counts = df[\"movie\"].value_counts()\n"
   ]
  },
  {
   "cell_type": "code",
   "execution_count": null,
   "id": "c5383e38-f655-4e2b-9d9a-085cb99d7b91",
   "metadata": {},
   "outputs": [],
   "source": []
  },
  {
   "cell_type": "code",
   "execution_count": null,
   "id": "d9d54329-aa76-42f9-a25d-20b78d91712d",
   "metadata": {},
   "outputs": [],
   "source": []
  }
 ],
 "metadata": {
  "kernelspec": {
   "display_name": "Python 3 (ipykernel)",
   "language": "python",
   "name": "python3"
  },
  "language_info": {
   "codemirror_mode": {
    "name": "ipython",
    "version": 3
   },
   "file_extension": ".py",
   "mimetype": "text/x-python",
   "name": "python",
   "nbconvert_exporter": "python",
   "pygments_lexer": "ipython3",
   "version": "3.13.1"
  }
 },
 "nbformat": 4,
 "nbformat_minor": 5
}
