{
 "cells": [
  {
   "cell_type": "code",
   "execution_count": 6,
   "id": "0d6bfacc-ae55-4483-a2d7-4970e5185e3b",
   "metadata": {},
   "outputs": [
    {
     "name": "stdin",
     "output_type": "stream",
     "text": [
      " 50\n"
     ]
    },
    {
     "name": "stdout",
     "output_type": "stream",
     "text": [
      "even\n"
     ]
    }
   ],
   "source": [
    "num = int(input())\n",
    "if num % 2 == 0:\n",
    "    print(\"even\")\n",
    "else:\n",
    "    print(\"odd\")\n",
    "    "
   ]
  },
  {
   "cell_type": "code",
   "execution_count": 3,
   "id": "8a9cea6f-3f4f-4540-9cc6-6b71b6a28c45",
   "metadata": {},
   "outputs": [
    {
     "name": "stdout",
     "output_type": "stream",
     "text": [
      "even\n"
     ]
    }
   ],
   "source": [
    "print(\"even\") if num %2 ==0 else print(\"False\")"
   ]
  },
  {
   "cell_type": "code",
   "execution_count": 4,
   "id": "70fd2430-c09e-41e1-8ee1-345bef8faa18",
   "metadata": {},
   "outputs": [
    {
     "name": "stdout",
     "output_type": "stream",
     "text": [
      "Positive\n"
     ]
    }
   ],
   "source": [
    "x = 10\n",
    "result = \"Positive\" if x > 0 else \"Negative\"\n",
    "print(result)"
   ]
  },
  {
   "cell_type": "code",
   "execution_count": 5,
   "id": "e85cff77-9c08-4dec-b4de-c9673ee824b4",
   "metadata": {},
   "outputs": [
    {
     "name": "stdout",
     "output_type": "stream",
     "text": [
      "Adult\n"
     ]
    }
   ],
   "source": [
    "age = 18\n",
    "ct = \"Adult\" if age >= 18 else \"minor\"\n",
    "print(ct)"
   ]
  },
  {
   "cell_type": "code",
   "execution_count": 8,
   "id": "c82ac1dc-6c02-4da8-a8e2-3a099222d348",
   "metadata": {},
   "outputs": [
    {
     "data": {
      "text/plain": [
       "[2, 10, 56]"
      ]
     },
     "execution_count": 8,
     "metadata": {},
     "output_type": "execute_result"
    }
   ],
   "source": [
    "L = [1,9,2,10,56,89]\n",
    "[x for x in L if x%2 == 0]"
   ]
  },
  {
   "cell_type": "code",
   "execution_count": 10,
   "id": "7a22cef7-d8bc-42fd-9ed2-99eb8f199b19",
   "metadata": {},
   "outputs": [
    {
     "data": {
      "text/plain": [
       "[50000, 70000, 65000]"
      ]
     },
     "execution_count": 10,
     "metadata": {},
     "output_type": "execute_result"
    }
   ],
   "source": [
    "sal = [ 50000,20000,10000,70000,65000]\n",
    "[ y for y in sal if y>=50000 ]\n"
   ]
  },
  {
   "cell_type": "code",
   "execution_count": 11,
   "id": "0a0ca973-4ac3-4485-8a0e-06fa6970e805",
   "metadata": {},
   "outputs": [
    {
     "data": {
      "text/plain": [
       "[60000.0, 24000.0, 12000.0]"
      ]
     },
     "execution_count": 11,
     "metadata": {},
     "output_type": "execute_result"
    }
   ],
   "source": [
    "[y*1.2 for y in sal if y <= 50000]"
   ]
  },
  {
   "cell_type": "code",
   "execution_count": 13,
   "id": "630271b5-bbc0-4215-b265-4dd98cd0f61e",
   "metadata": {},
   "outputs": [
    {
     "data": {
      "text/plain": [
       "[60000.0, 24000.0, 12000.0, 70000, 65000]"
      ]
     },
     "execution_count": 13,
     "metadata": {},
     "output_type": "execute_result"
    }
   ],
   "source": [
    "sal1 = [ 40000 , 60000 , 80000, 45000 ]\n",
    "[(x*1.2 if x <= 50000 else x) for x in sal]"
   ]
  },
  {
   "cell_type": "code",
   "execution_count": null,
   "id": "dded664d-351c-41fe-be1f-b0594aaa8ed5",
   "metadata": {},
   "outputs": [],
   "source": [
    "{k:sum(v)/len(v) for k,v in d1.itms()}\n"
   ]
  },
  {
   "cell_type": "code",
   "execution_count": 15,
   "id": "056af5bf-b481-4e85-b32c-6d262a7d7266",
   "metadata": {},
   "outputs": [],
   "source": [
    "def mean_values(given_list):\n",
    "    total = sum(given_list)\n",
    "    avg_value = total/len(given_list)\n",
    "    return avg_value"
   ]
  },
  {
   "cell_type": "code",
   "execution_count": null,
   "id": "d4b9af62-8466-4347-a603-451a40dafdc5",
   "metadata": {},
   "outputs": [],
   "source": [
    "l = [1,2,3,4,5,6,7,8,9,10]\n",
    "mean_value(l)"
   ]
  },
  {
   "cell_type": "code",
   "execution_count": 16,
   "id": "3c9704e5-d32e-4fe8-a79c-b17f98a8f50b",
   "metadata": {},
   "outputs": [
    {
     "name": "stdout",
     "output_type": "stream",
     "text": [
      "Good Morning, Anjali!\n"
     ]
    }
   ],
   "source": [
    "def greet(name):\n",
    "    \n",
    "    return f\"Good Morning, {name}!\"\n",
    "\n",
    "my_name = \"Anjali\"\n",
    "print(greet(my_name))\n"
   ]
  },
  {
   "cell_type": "code",
   "execution_count": 22,
   "id": "f833565e-bb4d-41f1-841b-8848318ce8c8",
   "metadata": {},
   "outputs": [
    {
     "name": "stdout",
     "output_type": "stream",
     "text": [
      "218.0\n"
     ]
    }
   ],
   "source": [
    "def avg_value(*n):\n",
    "    \n",
    "    if len(n) == 0:  # Handle the case where no arguments are passed\n",
    "        return \n",
    "    \n",
    "    l = len(n)\n",
    "    average = sum(n) / l\n",
    "    return average\n",
    "\n",
    "# Example usage\n",
    "r = avg_value(10, 20, 60, 100, 900)\n",
    "print(r)\n"
   ]
  },
  {
   "cell_type": "code",
   "execution_count": null,
   "id": "2f2a3e9a-4c34-4a53-83c4-7f2c8efe6d51",
   "metadata": {},
   "outputs": [],
   "source": []
  },
  {
   "cell_type": "code",
   "execution_count": null,
   "id": "ec053233-2f60-4e1b-8c01-254594bf7385",
   "metadata": {},
   "outputs": [],
   "source": []
  }
 ],
 "metadata": {
  "kernelspec": {
   "display_name": "Python 3 (ipykernel)",
   "language": "python",
   "name": "python3"
  },
  "language_info": {
   "codemirror_mode": {
    "name": "ipython",
    "version": 3
   },
   "file_extension": ".py",
   "mimetype": "text/x-python",
   "name": "python",
   "nbconvert_exporter": "python",
   "pygments_lexer": "ipython3",
   "version": "3.13.1"
  }
 },
 "nbformat": 4,
 "nbformat_minor": 5
}
