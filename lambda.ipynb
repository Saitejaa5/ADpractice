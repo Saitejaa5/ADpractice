{
 "cells": [
  {
   "cell_type": "code",
   "execution_count": 2,
   "id": "e0131260-3072-452b-a928-d5ce82cece3d",
   "metadata": {},
   "outputs": [
    {
     "name": "stdout",
     "output_type": "stream",
     "text": [
      "Evil eye Anjali!\n"
     ]
    }
   ],
   "source": [
    " greet = lambda name: print(f\"Evil eye {name}!\")\n",
    "greet(\"Anjali\")"
   ]
  },
  {
   "cell_type": "code",
   "execution_count": 3,
   "id": "c6739dd4-4088-410a-b92b-0f0c249b9081",
   "metadata": {},
   "outputs": [
    {
     "data": {
      "text/plain": [
       "750"
      ]
     },
     "execution_count": 3,
     "metadata": {},
     "output_type": "execute_result"
    }
   ],
   "source": [
    "product = lambda a,b,c:a*b*c\n",
    "product(5,10,15)"
   ]
  },
  {
   "cell_type": "code",
   "execution_count": 4,
   "id": "db2c1aa7-e3c4-475a-b70d-f025d248752a",
   "metadata": {},
   "outputs": [
    {
     "name": "stdout",
     "output_type": "stream",
     "text": [
      "[20, 45, 61, 80, 50, 35, 10]\n"
     ]
    }
   ],
   "source": [
    "even = lambda L:[x for x in L if x%2 == 0]\n",
    "my_list = [20,45,61,80,50,35,10]\n",
    "print(my_list)"
   ]
  },
  {
   "cell_type": "code",
   "execution_count": null,
   "id": "d3af945e-c001-47e0-b921-f923af0e8285",
   "metadata": {},
   "outputs": [],
   "source": []
  }
 ],
 "metadata": {
  "kernelspec": {
   "display_name": "Python 3 (ipykernel)",
   "language": "python",
   "name": "python3"
  },
  "language_info": {
   "codemirror_mode": {
    "name": "ipython",
    "version": 3
   },
   "file_extension": ".py",
   "mimetype": "text/x-python",
   "name": "python",
   "nbconvert_exporter": "python",
   "pygments_lexer": "ipython3",
   "version": "3.13.1"
  }
 },
 "nbformat": 4,
 "nbformat_minor": 5
}
