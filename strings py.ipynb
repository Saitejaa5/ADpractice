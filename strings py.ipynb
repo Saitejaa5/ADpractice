{
 "cells": [
  {
   "cell_type": "code",
   "execution_count": null,
   "id": "1e6cbf19-038c-465e-82db-6d5e612c4327",
   "metadata": {},
   "outputs": [],
   "source": [
    "#sets\n"
   ]
  },
  {
   "cell_type": "code",
   "execution_count": 2,
   "id": "188f2292-ba7e-432e-b026-0f362c8eed89",
   "metadata": {},
   "outputs": [
    {
     "data": {
      "text/plain": [
       "{1, 2, 3, 4, 7, 9, 10}"
      ]
     },
     "execution_count": 2,
     "metadata": {},
     "output_type": "execute_result"
    }
   ],
   "source": [
    "list1 = [4,7,2,3,9,1,10]\n",
    "\n",
    "set1 = set(list1)\n",
    "set1\n"
   ]
  },
  {
   "cell_type": "code",
   "execution_count": 10,
   "id": "15b134d2-7400-48e3-9835-d686cbac03a2",
   "metadata": {},
   "outputs": [
    {
     "data": {
      "text/plain": [
       "{1, 2, 3, 4, 5, 6, 7, 8}"
      ]
     },
     "execution_count": 10,
     "metadata": {},
     "output_type": "execute_result"
    }
   ],
   "source": [
    "#union operations\n",
    "s1 = { 2,4,6,8,5}\n",
    "s2 = { 1,3,5,7}\n",
    "s1 | s2\n"
   ]
  },
  {
   "cell_type": "code",
   "execution_count": null,
   "id": "b950cb4f-8e1b-4d0c-af36-4aa7ed61d8e6",
   "metadata": {},
   "outputs": [],
   "source": [
    "s1 & s2 # common elemnt"
   ]
  },
  {
   "cell_type": "code",
   "execution_count": 9,
   "id": "ebd3d027-2f0e-47a1-9386-1e5cb4e9c6ac",
   "metadata": {},
   "outputs": [
    {
     "data": {
      "text/plain": [
       "{1, 2, 3, 4, 5, 6, 7, 8}"
      ]
     },
     "execution_count": 9,
     "metadata": {},
     "output_type": "execute_result"
    }
   ],
   "source": [
    "s1.union(s2)"
   ]
  },
  {
   "cell_type": "code",
   "execution_count": 11,
   "id": "ac0dfa18-a350-41ca-aea5-4a604cf69ab8",
   "metadata": {},
   "outputs": [
    {
     "data": {
      "text/plain": [
       "{2, 4, 6, 8}"
      ]
     },
     "execution_count": 11,
     "metadata": {},
     "output_type": "execute_result"
    }
   ],
   "source": [
    "s1 - s2"
   ]
  },
  {
   "cell_type": "code",
   "execution_count": 12,
   "id": "5b43b6b4-62ae-4549-b088-3d1a31d7a248",
   "metadata": {},
   "outputs": [
    {
     "data": {
      "text/plain": [
       "False"
      ]
     },
     "execution_count": 12,
     "metadata": {},
     "output_type": "execute_result"
    }
   ],
   "source": [
    "se1 = { 1,2,3,4,5}\n",
    "se2 = { 1,2,3 }\n",
    "se2.issuperset(se1)"
   ]
  },
  {
   "cell_type": "code",
   "execution_count": 13,
   "id": "c5f06c3c-2bf8-480f-a007-691c742fa2e7",
   "metadata": {},
   "outputs": [
    {
     "data": {
      "text/plain": [
       "True"
      ]
     },
     "execution_count": 13,
     "metadata": {},
     "output_type": "execute_result"
    }
   ],
   "source": [
    "se1.issuperset(se2)"
   ]
  },
  {
   "cell_type": "code",
   "execution_count": 14,
   "id": "64b800cf-6017-4edc-bb65-85b978caa483",
   "metadata": {},
   "outputs": [
    {
     "name": "stdout",
     "output_type": "stream",
     "text": [
      "<class 'str'>\n",
      "<class 'str'>\n",
      "<class 'str'>\n"
     ]
    }
   ],
   "source": [
    "str1 = \"welcome to alpha class\"\n",
    "str2 = 'we started with python Basics'\n",
    "str3 = '''this is good class'''\n",
    "print(type(str1))\n",
    "print(type(str2))\n",
    "print(type(str3))"
   ]
  },
  {
   "cell_type": "code",
   "execution_count": 16,
   "id": "1a269234-9855-4193-9efd-f1fe8e13e646",
   "metadata": {},
   "outputs": [
    {
     "data": {
      "text/plain": [
       "' alph '"
      ]
     },
     "execution_count": 16,
     "metadata": {},
     "output_type": "execute_result"
    }
   ],
   "source": [
    "str1[10:16]"
   ]
  },
  {
   "cell_type": "code",
   "execution_count": 17,
   "id": "cc500ee7-bf7f-4030-b334-78f4a2de385c",
   "metadata": {},
   "outputs": [
    {
     "data": {
      "text/plain": [
       "['welcome', 'to', 'alph', 'class']"
      ]
     },
     "execution_count": 17,
     "metadata": {},
     "output_type": "execute_result"
    }
   ],
   "source": [
    "str1.split()"
   ]
  },
  {
   "cell_type": "code",
   "execution_count": 19,
   "id": "ae6cb314-bc92-4694-aa8c-ea0d9cb5686c",
   "metadata": {},
   "outputs": [
    {
     "data": {
      "text/plain": [
       "'wwe started with python Basicsewe started with python Basicslwe started with python Basicscwe started with python Basicsowe started with python Basicsmwe started with python Basicsewe started with python Basics we started with python Basicstwe started with python Basicsowe started with python Basics we started with python Basicsawe started with python Basicslwe started with python Basicspwe started with python Basicshwe started with python Basics we started with python Basicscwe started with python Basicslwe started with python Basicsawe started with python Basicsswe started with python Basicss'"
      ]
     },
     "execution_count": 19,
     "metadata": {},
     "output_type": "execute_result"
    }
   ],
   "source": [
    "str2.join(str1)"
   ]
  },
  {
   "cell_type": "code",
   "execution_count": 20,
   "id": "1e30de0d-c2a1-48e2-8ff8-f8224f7547fc",
   "metadata": {},
   "outputs": [
    {
     "data": {
      "text/plain": [
       "'  h e l l o   ,   h o w   a r e   y o u'"
      ]
     },
     "execution_count": 20,
     "metadata": {},
     "output_type": "execute_result"
    }
   ],
   "source": [
    "str4 = \" hello , how are you\"\n",
    "' '.join(str4)"
   ]
  },
  {
   "cell_type": "code",
   "execution_count": 21,
   "id": "949609ad-9eed-4c70-b02b-511648791a70",
   "metadata": {},
   "outputs": [
    {
     "data": {
      "text/plain": [
       "'    anjali , is sleepy    '"
      ]
     },
     "execution_count": 21,
     "metadata": {},
     "output_type": "execute_result"
    }
   ],
   "source": [
    "s5= \"    anjali , is sleepy    \"\n",
    "s5"
   ]
  },
  {
   "cell_type": "code",
   "execution_count": 22,
   "id": "3a64b2f5-bcfa-43c7-bb18-8cc51558bd60",
   "metadata": {},
   "outputs": [
    {
     "data": {
      "text/plain": [
       "'anjali , is sleepy'"
      ]
     },
     "execution_count": 22,
     "metadata": {},
     "output_type": "execute_result"
    }
   ],
   "source": [
    "s5.strip()"
   ]
  },
  {
   "cell_type": "code",
   "execution_count": 23,
   "id": "9ad7584f-27de-456f-94b1-9f7df250ae67",
   "metadata": {},
   "outputs": [
    {
     "data": {
      "text/plain": [
       "{'r1': {'WordCount': 2, 'UniqueWords': ['good', 'its']},\n",
       " 'r2': {'WordCount': 2, 'UniqueWords': ['ok']},\n",
       " 'r3': {'WordCount': 1, 'UniqueWords': ['fine']}}"
      ]
     },
     "execution_count": 23,
     "metadata": {},
     "output_type": "execute_result"
    }
   ],
   "source": [
    "reviews = {\n",
    "    \"r1\": \"its good\",\n",
    "    \"r2\": \"ok ok\",\n",
    "    \"r3\": \"fine\"\n",
    "}\n",
    "\n",
    "review_analysis = {}\n",
    "for key, review in reviews.items():\n",
    "    words = review.lower().replace('.', '').replace(',', '').split()\n",
    "    review_analysis[key] = {\n",
    "        \"WordCount\": len(words),\n",
    "        \"UniqueWords\": list(set(words))\n",
    "    }\n",
    "\n",
    "review_analysis\n",
    "    "
   ]
  },
  {
   "cell_type": "code",
   "execution_count": null,
   "id": "2edbf8f0-ad49-427c-a087-553fdd959fc7",
   "metadata": {},
   "outputs": [],
   "source": []
  }
 ],
 "metadata": {
  "kernelspec": {
   "display_name": "Python 3 (ipykernel)",
   "language": "python",
   "name": "python3"
  },
  "language_info": {
   "codemirror_mode": {
    "name": "ipython",
    "version": 3
   },
   "file_extension": ".py",
   "mimetype": "text/x-python",
   "name": "python",
   "nbconvert_exporter": "python",
   "pygments_lexer": "ipython3",
   "version": "3.13.1"
  }
 },
 "nbformat": 4,
 "nbformat_minor": 5
}
