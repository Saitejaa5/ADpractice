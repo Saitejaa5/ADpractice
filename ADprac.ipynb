{
 "cells": [
  {
   "cell_type": "code",
   "execution_count": 1,
   "id": "ad3748a4-3562-40b5-b110-fb15902b2465",
   "metadata": {},
   "outputs": [
    {
     "name": "stdout",
     "output_type": "stream",
     "text": [
      "[['apple', 10], ['banana', 5], ['cherry', 10]]\n"
     ]
    }
   ],
   "source": [
    "orders = [[ 'apple', 10] , ['banana',5] , ['cherry',6]]\n",
    "for each in orders:\n",
    "    if each[0] == \"cherry\":\n",
    "        each[1] = 10\n",
    "print(orders)"
   ]
  },
  {
   "cell_type": "code",
   "execution_count": 4,
   "id": "d0a0cd32-c3d3-45ce-8363-6e403c0a3ebf",
   "metadata": {},
   "outputs": [
    {
     "name": "stdout",
     "output_type": "stream",
     "text": [
      "[['apple', 10], ['banana', 5], ['cherry', 6], ['apple', 15], ['apple', 25]]\n",
      "[10, 15, 25]\n",
      "50\n"
     ]
    }
   ],
   "source": [
    "orders = [[ 'apple', 10] , ['banana',5] , ['cherry',6]]\n",
    "orders.append(['apple',15])\n",
    "orders.append(['apple',25])\n",
    "print(orders)\n",
    "total = []\n",
    "for each_item in orders:\n",
    "    if each_item[0] == 'apple':\n",
    "        total.append(each_item[1])\n",
    "print(total)\n",
    "print(sum(total))"
   ]
  },
  {
   "cell_type": "code",
   "execution_count": 8,
   "id": "abe1ba1d-9a20-46b8-9a85-4083742bab0e",
   "metadata": {},
   "outputs": [
    {
     "name": "stdout",
     "output_type": "stream",
     "text": [
      "(3, 4, 9, 'A', 5.2)\n",
      "(3, 4, 9, 'A', 5.2)\n",
      "(3, 4, 9, 'A', 5.2)\n",
      "<class 'tuple'>\n",
      "<class 'tuple'>\n",
      "<class 'tuple'>\n"
     ]
    },
    {
     "data": {
      "text/plain": [
       "(9, 'A')"
      ]
     },
     "execution_count": 8,
     "metadata": {},
     "output_type": "execute_result"
    }
   ],
   "source": [
    "##Tuple1\n",
    "Tup1=(3,4,9,'A',5.2)\n",
    "##Tuple2\n",
    "Tup2=(3,4,9,'A',5.2)\n",
    "##Tuple3\n",
    "Tup3=(3,4,9,'A',5.2)\n",
    "print(Tup1)\n",
    "print(Tup2)\n",
    "print(Tup3)\n",
    "print(type(Tup1))\n",
    "print(type(Tup2))\n",
    "print(type(Tup3))\n",
    "Tup1[2:4]\n",
    "\n"
   ]
  },
  {
   "cell_type": "code",
   "execution_count": 10,
   "id": "60b1b35f-9d36-4a30-9e46-8ac70969963f",
   "metadata": {},
   "outputs": [
    {
     "name": "stdout",
     "output_type": "stream",
     "text": [
      "{'a': 5, 'B': 10, 'c': 15}\n",
      "<class 'dict'>\n"
     ]
    }
   ],
   "source": [
    "d1 = dict(a=5,B=10,c=15)\n",
    "print(d1)\n",
    "print(type(d1))"
   ]
  },
  {
   "cell_type": "code",
   "execution_count": 11,
   "id": "dd837bab-37b5-4621-adfe-b9dc90133217",
   "metadata": {},
   "outputs": [
    {
     "data": {
      "text/plain": [
       "{'rohit': 99,\n",
       " 'jadeja': 33,\n",
       " 'rahul': 44,\n",
       " 'hardik': 90,\n",
       " 'ashwin': 60,\n",
       " 'gill': 62,\n",
       " 'bumrah': 100}"
      ]
     },
     "execution_count": 11,
     "metadata": {},
     "output_type": "execute_result"
    }
   ],
   "source": [
    "scores = {\n",
    "    'rohit' : 20,\n",
    "    'jadeja': 77,\n",
    "    'rahul' : 44,\n",
    "    'hardik': 90,\n",
    "    'ashwin': 60,\n",
    "    'gill' : 62\n",
    "}\n",
    "scores\n",
    "scores.update({'rohit':99,'jadeja':33}),\n",
    "scores\n",
    "scores.setdefault('bumrah',100)\n",
    "scores\n",
    "\n"
   ]
  },
  {
   "cell_type": "code",
   "execution_count": 12,
   "id": "dd06dd06-e8c7-4d57-848d-7a8648920e6b",
   "metadata": {},
   "outputs": [
    {
     "data": {
      "text/plain": [
       "{'rohit': 99,\n",
       " 'jadeja': 33,\n",
       " 'rahul': 44,\n",
       " 'hardik': 90,\n",
       " 'ashwin': 60,\n",
       " 'gill': 62}"
      ]
     },
     "execution_count": 12,
     "metadata": {},
     "output_type": "execute_result"
    }
   ],
   "source": [
    "scores.popitem()\n",
    "scores"
   ]
  },
  {
   "cell_type": "code",
   "execution_count": 13,
   "id": "90490d8f-be81-4671-9849-29b6492c440e",
   "metadata": {},
   "outputs": [
    {
     "data": {
      "text/plain": [
       "60"
      ]
     },
     "execution_count": 13,
     "metadata": {},
     "output_type": "execute_result"
    }
   ],
   "source": [
    "scores.pop('ashwin')"
   ]
  },
  {
   "cell_type": "code",
   "execution_count": 24,
   "id": "0a9e0141-04ff-4bc9-827b-de1fda3eaef0",
   "metadata": {},
   "outputs": [
    {
     "name": "stdout",
     "output_type": "stream",
     "text": [
      "dict_keys(['rohit', 'jadeja', 'rahul', 'hardik', 'gill'])\n",
      "dict_values([99, 33, 44, 90, 62])\n",
      "dict_items([('rohit', 99), ('jadeja', 33), ('rahul', 44), ('hardik', 90), ('gill', 62)])\n"
     ]
    },
    {
     "data": {
      "text/plain": [
       "{'rohit': 99, 'jadeja': 33, 'rahul': 44, 'hardik': 19, 'gill': 62}"
      ]
     },
     "execution_count": 24,
     "metadata": {},
     "output_type": "execute_result"
    }
   ],
   "source": [
    "scores.get('rohit')\n",
    "print(scores.keys())\n",
    "print(scores.values())\n",
    "print(scores.items())\n",
    "for k in scores.keys():\n",
    "    if k == 'hardik':\n",
    "        scores[k] = 19\n",
    "scores"
   ]
  },
  {
   "cell_type": "code",
   "execution_count": 17,
   "id": "55665d10-3c89-4e52-99ce-98cc37246ebf",
   "metadata": {},
   "outputs": [
    {
     "data": {
      "text/plain": [
       "{'A': None, 'B': None, 'C': None, 'D': None}"
      ]
     },
     "execution_count": 17,
     "metadata": {},
     "output_type": "execute_result"
    }
   ],
   "source": [
    "li1= [\"A\",\"B\",\"C\",\"D\"]\n",
    "myd=dict.fromkeys(li1)\n",
    "myd"
   ]
  },
  {
   "cell_type": "code",
   "execution_count": null,
   "id": "13b9ddd5-6022-4257-9fe0-65754f67f307",
   "metadata": {},
   "outputs": [],
   "source": []
  },
  {
   "cell_type": "code",
   "execution_count": null,
   "id": "0a2755ff-bc3f-43ad-a301-41e8caa2aa13",
   "metadata": {},
   "outputs": [],
   "source": []
  }
 ],
 "metadata": {
  "kernelspec": {
   "display_name": "Python 3 (ipykernel)",
   "language": "python",
   "name": "python3"
  },
  "language_info": {
   "codemirror_mode": {
    "name": "ipython",
    "version": 3
   },
   "file_extension": ".py",
   "mimetype": "text/x-python",
   "name": "python",
   "nbconvert_exporter": "python",
   "pygments_lexer": "ipython3",
   "version": "3.13.1"
  }
 },
 "nbformat": 4,
 "nbformat_minor": 5
}
