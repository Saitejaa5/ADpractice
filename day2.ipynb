{
 "cells": [
  {
   "cell_type": "code",
   "execution_count": 3,
   "id": "f54e6cff-12d6-44b8-bf46-6659c08979c9",
   "metadata": {},
   "outputs": [
    {
     "name": "stdout",
     "output_type": "stream",
     "text": [
      "List elements:\n",
      "First element: 10\n",
      "Third element: 30\n",
      "Last element: 50\n"
     ]
    }
   ],
   "source": [
    "# List\n",
    "my_list = [10, 20, 30, 40, 50]\n",
    "\n",
    "print(\"List elements:\")\n",
    "print(\"First element:\", my_list[0]) \n",
    "print(\"Third element:\", my_list[2])  \n",
    "print(\"Last element:\", my_list[-1]) \n"
   ]
  },
  {
   "cell_type": "code",
   "execution_count": 2,
   "id": "98dc1399-5bee-4ca3-bec2-91bd9de56c01",
   "metadata": {},
   "outputs": [
    {
     "name": "stdout",
     "output_type": "stream",
     "text": [
      "\n",
      "Tuple elements:\n",
      "Second element: banana\n",
      "Fourth element: date\n",
      "First element: apple\n"
     ]
    }
   ],
   "source": [
    "#Tuples\n",
    "my_tuple = ('apple', 'banana', 'cherry', 'date', 'elderberry')\n",
    "\n",
    "print(\"\\nTuple elements:\")\n",
    "print(\"Second element:\", my_tuple[1])\n",
    "print(\"Fourth element:\", my_tuple[3])\n",
    "print(\"First element:\", my_tuple[0]) \n"
   ]
  },
  {
   "cell_type": "code",
   "execution_count": 1,
   "id": "0c083c3b-6e6b-48ea-852a-d773ab3d29dd",
   "metadata": {},
   "outputs": [
    {
     "name": "stdout",
     "output_type": "stream",
     "text": [
      "\n",
      "Dictionary elements:\n",
      "Name: Alice\n",
      "City: New York\n",
      "Hobby: Photography\n"
     ]
    }
   ],
   "source": [
    "# Dictionary\n",
    "my_dict = {\n",
    "    'name': 'Alice',\n",
    "    'age': 25,\n",
    "    'city': 'New York',\n",
    "    'profession': 'Engineer',\n",
    "    'hobby': 'Photography'\n",
    "}\n",
    "print(\"\\nDictionary elements:\")\n",
    "print(\"Name:\", my_dict['name'])         \n",
    "print(\"City:\", my_dict['city'])         \n",
    "print(\"Hobby:\", my_dict.get('hobby'))   "
   ]
  },
  {
   "cell_type": "code",
   "execution_count": null,
   "id": "c1aacb79-5ca0-484f-8a76-6b8cf661411c",
   "metadata": {},
   "outputs": [],
   "source": []
  }
 ],
 "metadata": {
  "kernelspec": {
   "display_name": "Python 3 (ipykernel)",
   "language": "python",
   "name": "python3"
  },
  "language_info": {
   "codemirror_mode": {
    "name": "ipython",
    "version": 3
   },
   "file_extension": ".py",
   "mimetype": "text/x-python",
   "name": "python",
   "nbconvert_exporter": "python",
   "pygments_lexer": "ipython3",
   "version": "3.13.1"
  }
 },
 "nbformat": 4,
 "nbformat_minor": 5
}
